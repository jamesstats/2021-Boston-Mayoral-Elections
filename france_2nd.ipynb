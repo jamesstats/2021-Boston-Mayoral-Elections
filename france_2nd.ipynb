{
  "nbformat": 4,
  "nbformat_minor": 0,
  "metadata": {
    "colab": {
      "name": "france_2nd.ipynb",
      "provenance": []
    },
    "kernelspec": {
      "name": "python3",
      "display_name": "Python 3"
    },
    "language_info": {
      "name": "python"
    }
  },
  "cells": [
    {
      "cell_type": "code",
      "execution_count": 1,
      "metadata": {
        "id": "Fofm6zrQnJGb"
      },
      "outputs": [],
      "source": [
        "import pandas as pd\n"
      ]
    },
    {
      "cell_type": "code",
      "source": [
        "!pip3 install lxml "
      ],
      "metadata": {
        "colab": {
          "base_uri": "https://localhost:8080/"
        },
        "id": "7j11dQjT28_o",
        "outputId": "42a1d390-0f38-48fb-a5df-109212c06523"
      },
      "execution_count": 44,
      "outputs": [
        {
          "output_type": "stream",
          "name": "stdout",
          "text": [
            "Requirement already satisfied: lxml in /usr/local/lib/python3.7/dist-packages (4.2.6)\n"
          ]
        }
      ]
    },
    {
      "cell_type": "code",
      "source": [
        "url = \"https://en.wikipedia.org/wiki/Opinion_polling_for_the_2022_French_presidential_election#Macron_vs._Le_Pen\""
      ],
      "metadata": {
        "id": "LxlvPUadnR2t"
      },
      "execution_count": 2,
      "outputs": []
    },
    {
      "cell_type": "code",
      "source": [
        "presidentielle=pd.read_html(url, header=0, flavor='html5lib')  "
      ],
      "metadata": {
        "id": "k8-IPUiWnZOt"
      },
      "execution_count": 45,
      "outputs": []
    },
    {
      "cell_type": "code",
      "source": [
        "print(presidentielle[8]) "
      ],
      "metadata": {
        "colab": {
          "base_uri": "https://localhost:8080/"
        },
        "id": "SM2g-3YZnlI4",
        "outputId": "07d2ad04-6f57-40ff-ea3a-53db8b6bc16c"
      },
      "execution_count": 46,
      "outputs": [
        {
          "output_type": "stream",
          "name": "stdout",
          "text": [
            "        Pollingfirm   Fieldworkdate  Samplesize    Abs.  Unnamed: 4 Unnamed: 5\n",
            "0       Pollingfirm   Fieldworkdate  Samplesize    Abs.  MacronLREM   Le PenRN\n",
            "1       Pollingfirm   Fieldworkdate  Samplesize    Abs.         NaN        NaN\n",
            "2        OpinionWay  10–11 Apr 2022        1059       –         54%        46%\n",
            "3    OpinionWay-Kéa  10–11 Apr 2022        2174     26%         55%        45%\n",
            "4     Ifop-Fiducial  10–11 Apr 2022        1003     25%       52.5%      47.5%\n",
            "..              ...             ...         ...     ...         ...        ...\n",
            "278            Ifop  18–19 Jun 2020         992       –         55%        45%\n",
            "279            Ifop  28–30 Oct 2019        1396       –         55%        45%\n",
            "280            Ifop  27–28 May 2019         927       –         57%        43%\n",
            "281            Ifop    1–2 Feb 2019         912       –         56%        44%\n",
            "282   2017 election      7 May 2017           –  25.44%      66.10%     33.90%\n",
            "\n",
            "[283 rows x 6 columns]\n"
          ]
        }
      ]
    },
    {
      "cell_type": "code",
      "source": [
        "macron = presidentielle[8] "
      ],
      "metadata": {
        "id": "V8H5A7J9qTaB"
      },
      "execution_count": 13,
      "outputs": []
    },
    {
      "cell_type": "code",
      "source": [
        "print(macron)  "
      ],
      "metadata": {
        "colab": {
          "base_uri": "https://localhost:8080/"
        },
        "id": "HmZw__NpqeLG",
        "outputId": "938d81f3-a736-474c-e65e-931d6fb7db2c"
      },
      "execution_count": 15,
      "outputs": [
        {
          "output_type": "stream",
          "name": "stdout",
          "text": [
            "        Pollingfirm   Fieldworkdate  Samplesize    Abs.  Unnamed: 4 Unnamed: 5\n",
            "0       Pollingfirm   Fieldworkdate  Samplesize    Abs.  MacronLREM   Le PenRN\n",
            "1       Pollingfirm   Fieldworkdate  Samplesize    Abs.         NaN        NaN\n",
            "2        OpinionWay  10–11 Apr 2022        1059       –         54%        46%\n",
            "3    OpinionWay-Kéa  10–11 Apr 2022        2174     26%         55%        45%\n",
            "4     Ifop-Fiducial  10–11 Apr 2022        1003     25%       52.5%      47.5%\n",
            "..              ...             ...         ...     ...         ...        ...\n",
            "278            Ifop  18–19 Jun 2020         992       –         55%        45%\n",
            "279            Ifop  28–30 Oct 2019        1396       –         55%        45%\n",
            "280            Ifop  27–28 May 2019         927       –         57%        43%\n",
            "281            Ifop    1–2 Feb 2019         912       –         56%        44%\n",
            "282   2017 election      7 May 2017           –  25.44%      66.10%     33.90%\n",
            "\n",
            "[283 rows x 6 columns]\n"
          ]
        }
      ]
    },
    {
      "cell_type": "code",
      "source": [
        "macron=macron.drop('Abs.',axis=1) "
      ],
      "metadata": {
        "id": "vc4fq9I8s0_e"
      },
      "execution_count": 21,
      "outputs": []
    },
    {
      "cell_type": "code",
      "source": [
        "print(macron) "
      ],
      "metadata": {
        "colab": {
          "base_uri": "https://localhost:8080/"
        },
        "id": "bhjZOXc8tvPc",
        "outputId": "c918220d-7785-4c82-db67-eb00acbd48d6"
      },
      "execution_count": 27,
      "outputs": [
        {
          "output_type": "stream",
          "name": "stdout",
          "text": [
            "        Pollingfirm   Fieldworkdate  Samplesize  Unnamed: 4 Unnamed: 5\n",
            "0       Pollingfirm   Fieldworkdate  Samplesize  MacronLREM   Le PenRN\n",
            "1       Pollingfirm   Fieldworkdate  Samplesize         NaN        NaN\n",
            "2        OpinionWay  10–11 Apr 2022        1059         54%        46%\n",
            "3    OpinionWay-Kéa  10–11 Apr 2022        2174         55%        45%\n",
            "4     Ifop-Fiducial  10–11 Apr 2022        1003       52.5%      47.5%\n",
            "..              ...             ...         ...         ...        ...\n",
            "278            Ifop  18–19 Jun 2020         992         55%        45%\n",
            "279            Ifop  28–30 Oct 2019        1396         55%        45%\n",
            "280            Ifop  27–28 May 2019         927         57%        43%\n",
            "281            Ifop    1–2 Feb 2019         912         56%        44%\n",
            "282   2017 election      7 May 2017           –      66.10%     33.90%\n",
            "\n",
            "[283 rows x 5 columns]\n"
          ]
        }
      ]
    },
    {
      "cell_type": "code",
      "source": [
        "macron=macron.drop(0)  "
      ],
      "metadata": {
        "id": "55Iorn_avvWl"
      },
      "execution_count": 29,
      "outputs": []
    },
    {
      "cell_type": "code",
      "source": [
        "macron=macron.drop(1) "
      ],
      "metadata": {
        "id": "2gC9X2N5wWqQ"
      },
      "execution_count": 30,
      "outputs": []
    },
    {
      "cell_type": "code",
      "source": [
        "print(macron) "
      ],
      "metadata": {
        "colab": {
          "base_uri": "https://localhost:8080/"
        },
        "id": "LjsDHy2Kwb6D",
        "outputId": "3d1164f0-70b0-4aaa-ca7a-1a51fbc21fef"
      },
      "execution_count": 31,
      "outputs": [
        {
          "output_type": "stream",
          "name": "stdout",
          "text": [
            "            Pollingfirm   Fieldworkdate Samplesize Unnamed: 4 Unnamed: 5\n",
            "2            OpinionWay  10–11 Apr 2022       1059        54%        46%\n",
            "3        OpinionWay-Kéa  10–11 Apr 2022       2174        55%        45%\n",
            "4         Ifop-Fiducial  10–11 Apr 2022       1003      52.5%      47.5%\n",
            "5                 Odoxa     10 Apr 2022       1505      54.5%      45.5%\n",
            "6    Ipsos-Sopra Steria     10 Apr 2022       1172        54%        46%\n",
            "..                  ...             ...        ...        ...        ...\n",
            "278                Ifop  18–19 Jun 2020        992        55%        45%\n",
            "279                Ifop  28–30 Oct 2019       1396        55%        45%\n",
            "280                Ifop  27–28 May 2019        927        57%        43%\n",
            "281                Ifop    1–2 Feb 2019        912        56%        44%\n",
            "282       2017 election      7 May 2017          –     66.10%     33.90%\n",
            "\n",
            "[281 rows x 5 columns]\n"
          ]
        }
      ]
    },
    {
      "cell_type": "code",
      "source": [
        "macron = macron.rename(columns={'Pollingfirm':'PollingFirm', 'Fieldworkdate':'FieldWorkDate', 'Samplesize':'SampleSize', 'Unnamed: 4':'MacronLREM',\n",
        "       'Unnamed: 5':'LePenNR'})   "
      ],
      "metadata": {
        "id": "XACUBp7MwnKY"
      },
      "execution_count": 38,
      "outputs": []
    },
    {
      "cell_type": "code",
      "source": [
        "print(macron) "
      ],
      "metadata": {
        "colab": {
          "base_uri": "https://localhost:8080/"
        },
        "id": "O9ote-HM0NJu",
        "outputId": "525fe8b0-ab60-44a5-f5b6-d6873be95cd3"
      },
      "execution_count": 41,
      "outputs": [
        {
          "output_type": "stream",
          "name": "stdout",
          "text": [
            "            PollingFirm   FieldWorkDate SampleSize MacronLREM LePenNR\n",
            "2            OpinionWay  10–11 Apr 2022       1059        54%     46%\n",
            "3        OpinionWay-Kéa  10–11 Apr 2022       2174        55%     45%\n",
            "4         Ifop-Fiducial  10–11 Apr 2022       1003      52.5%   47.5%\n",
            "5                 Odoxa     10 Apr 2022       1505      54.5%   45.5%\n",
            "6    Ipsos-Sopra Steria     10 Apr 2022       1172        54%     46%\n",
            "..                  ...             ...        ...        ...     ...\n",
            "278                Ifop  18–19 Jun 2020        992        55%     45%\n",
            "279                Ifop  28–30 Oct 2019       1396        55%     45%\n",
            "280                Ifop  27–28 May 2019        927        57%     43%\n",
            "281                Ifop    1–2 Feb 2019        912        56%     44%\n",
            "282       2017 election      7 May 2017          –     66.10%  33.90%\n",
            "\n",
            "[281 rows x 5 columns]\n"
          ]
        }
      ]
    },
    {
      "cell_type": "code",
      "source": [
        "macron.to_excel('macron.xlsx') "
      ],
      "metadata": {
        "id": "w2E0spS6uMu3"
      },
      "execution_count": 40,
      "outputs": []
    }
  ]
}