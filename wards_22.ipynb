{
  "nbformat": 4,
  "nbformat_minor": 0,
  "metadata": {
    "colab": {
      "name": "wards_22.ipynb",
      "provenance": [],
      "collapsed_sections": []
    },
    "kernelspec": {
      "name": "python3",
      "display_name": "Python 3"
    },
    "language_info": {
      "name": "python"
    }
  },
  "cells": [
    {
      "cell_type": "code",
      "source": [
        "import tabula\n",
        "import pandas as pd\n"
      ],
      "metadata": {
        "id": "fGGLjxihIp7-"
      },
      "execution_count": 37,
      "outputs": []
    },
    {
      "cell_type": "code",
      "source": [
        "bos = (\"https://www.boston.gov/sites/default/files/file/2021/11/2021-11-02-21-Mayor.pdf\")  "
      ],
      "metadata": {
        "id": "tpn-2Jt_7u7t"
      },
      "execution_count": 6,
      "outputs": []
    },
    {
      "cell_type": "code",
      "source": [
        "mayor = tabula.read_pdf(bos, pages='1')   "
      ],
      "metadata": {
        "id": "jPqNQs1eIgl3"
      },
      "execution_count": 65,
      "outputs": []
    },
    {
      "cell_type": "code",
      "source": [
        "print(mayor[0]) "
      ],
      "metadata": {
        "colab": {
          "base_uri": "https://localhost:8080/"
        },
        "id": "uUzmtwhIgrla",
        "outputId": "f99b6b37-b26a-498a-88b0-4ba5f62f2f33"
      },
      "execution_count": 66,
      "outputs": [
        {
          "output_type": "stream",
          "name": "stdout",
          "text": [
            "               CANDIDATES     1     2     3     4     5     6     7     8  \\\n",
            "0             MICHELLE WU  3878  3002  5935  3389  5222  2905  2082  1786   \n",
            "1  ANNISSA ESSAIBI GEORGE  2645  2799  3215  1356  2297  4017  2948   666   \n",
            "2              ALL OTHERS    26    24    24    15    26    27    13    23   \n",
            "3              VOTES CAST  6549  5825  9174  4760  7545  6949  5043  2475   \n",
            "4                  BLANKS    49    37    30    22    36    33    35    27   \n",
            "5            BALLOTS CAST  6598  5862  9204  4782  7581  6982  5078  2502   \n",
            "\n",
            "      9  ...    14    15    16    17     18    19     20    21    22   TOTAL  \n",
            "0  2515  ...  3511  1763  2957  4050  10229  7723   8514  4737  4283   91794  \n",
            "1   775  ...  1280   919  4472  1825   5520  1482   7810  1199  1889   51125  \n",
            "2    10  ...    54     9    31    43     92    20     41    17    21     595  \n",
            "3  3300  ...  4845  2691  7460  5918  15841  9225  16365  5953  6193  143514  \n",
            "4    27  ...    63    33    33    56    101    36     59    34    24     866  \n",
            "5  3327  ...  4908  2724  7493  5974  15942  9261  16424  5987  6217  144380  \n",
            "\n",
            "[6 rows x 24 columns]\n"
          ]
        }
      ]
    },
    {
      "cell_type": "code",
      "source": [
        "mayorbos=mayor[0] "
      ],
      "metadata": {
        "id": "V9TtFT2win_D"
      },
      "execution_count": 67,
      "outputs": []
    },
    {
      "cell_type": "code",
      "source": [
        "mayorbos.rename(columns={'CANDIDATES':'Wards'},inplace=True)  "
      ],
      "metadata": {
        "id": "hkQZIDx0ix2P"
      },
      "execution_count": 69,
      "outputs": []
    },
    {
      "cell_type": "code",
      "source": [
        "mayorbos.columns"
      ],
      "metadata": {
        "colab": {
          "base_uri": "https://localhost:8080/"
        },
        "id": "YG0TXx-uknhb",
        "outputId": "73add8d7-59ae-44d3-87c0-9592606edfbc"
      },
      "execution_count": 73,
      "outputs": [
        {
          "output_type": "execute_result",
          "data": {
            "text/plain": [
              "Index(['Wards', '1', '2', '3', '4', '5', '6', '7', '8', '9', '10', '11', '12',\n",
              "       '13', '14', '15', '16', '17', '18', '19', '20', '21', '22', 'TOTAL'],\n",
              "      dtype='object')"
            ]
          },
          "metadata": {},
          "execution_count": 73
        }
      ]
    },
    {
      "cell_type": "code",
      "source": [
        "print(mayorbos) "
      ],
      "metadata": {
        "colab": {
          "base_uri": "https://localhost:8080/"
        },
        "id": "ORuuP-aBjp2Z",
        "outputId": "09fffbee-9683-42fc-de7e-18108fa34e1a"
      },
      "execution_count": 70,
      "outputs": [
        {
          "output_type": "stream",
          "name": "stdout",
          "text": [
            "                    Wards     1     2     3     4     5     6     7     8  \\\n",
            "0             MICHELLE WU  3878  3002  5935  3389  5222  2905  2082  1786   \n",
            "1  ANNISSA ESSAIBI GEORGE  2645  2799  3215  1356  2297  4017  2948   666   \n",
            "2              ALL OTHERS    26    24    24    15    26    27    13    23   \n",
            "3              VOTES CAST  6549  5825  9174  4760  7545  6949  5043  2475   \n",
            "4                  BLANKS    49    37    30    22    36    33    35    27   \n",
            "5            BALLOTS CAST  6598  5862  9204  4782  7581  6982  5078  2502   \n",
            "\n",
            "      9  ...    14    15    16    17     18    19     20    21    22   TOTAL  \n",
            "0  2515  ...  3511  1763  2957  4050  10229  7723   8514  4737  4283   91794  \n",
            "1   775  ...  1280   919  4472  1825   5520  1482   7810  1199  1889   51125  \n",
            "2    10  ...    54     9    31    43     92    20     41    17    21     595  \n",
            "3  3300  ...  4845  2691  7460  5918  15841  9225  16365  5953  6193  143514  \n",
            "4    27  ...    63    33    33    56    101    36     59    34    24     866  \n",
            "5  3327  ...  4908  2724  7493  5974  15942  9261  16424  5987  6217  144380  \n",
            "\n",
            "[6 rows x 24 columns]\n"
          ]
        }
      ]
    },
    {
      "cell_type": "code",
      "source": [
        "mayor_bos=mayorbos.set_index([\"Wards\",mayorbos.groupby(\"Wards\").cumcount()]).unstack().T.droplevel(1) \n"
      ],
      "metadata": {
        "id": "4614fXtVstHj"
      },
      "execution_count": 82,
      "outputs": []
    },
    {
      "cell_type": "code",
      "source": [
        "print(mayor_bos)"
      ],
      "metadata": {
        "colab": {
          "base_uri": "https://localhost:8080/"
        },
        "id": "EECWHeNKtbku",
        "outputId": "196b9878-8daf-4c91-e858-a315415b7b76"
      },
      "execution_count": 83,
      "outputs": [
        {
          "output_type": "stream",
          "name": "stdout",
          "text": [
            "Wards  ALL OTHERS  ANNISSA ESSAIBI GEORGE  BALLOTS CAST  BLANKS  MICHELLE WU  \\\n",
            "1              26                    2645          6598      49         3878   \n",
            "2              24                    2799          5862      37         3002   \n",
            "3              24                    3215          9204      30         5935   \n",
            "4              15                    1356          4782      22         3389   \n",
            "5              26                    2297          7581      36         5222   \n",
            "6              27                    4017          6982      33         2905   \n",
            "7              13                    2948          5078      35         2082   \n",
            "8              23                     666          2502      27         1786   \n",
            "9              10                     775          3327      27         2515   \n",
            "10              9                     802          4123      21         3291   \n",
            "11             15                     819          5769      29         4906   \n",
            "12             39                     785          3405      55         2526   \n",
            "13             16                    1605          4237      26         2590   \n",
            "14             54                    1280          4908      63         3511   \n",
            "15              9                     919          2724      33         1763   \n",
            "16             31                    4472          7493      33         2957   \n",
            "17             43                    1825          5974      56         4050   \n",
            "18             92                    5520         15942     101        10229   \n",
            "19             20                    1482          9261      36         7723   \n",
            "20             41                    7810         16424      59         8514   \n",
            "21             17                    1199          5987      34         4737   \n",
            "22             21                    1889          6217      24         4283   \n",
            "TOTAL         595                   51125        144380     866        91794   \n",
            "\n",
            "Wards  VOTES CAST  \n",
            "1            6549  \n",
            "2            5825  \n",
            "3            9174  \n",
            "4            4760  \n",
            "5            7545  \n",
            "6            6949  \n",
            "7            5043  \n",
            "8            2475  \n",
            "9            3300  \n",
            "10           4102  \n",
            "11           5740  \n",
            "12           3350  \n",
            "13           4211  \n",
            "14           4845  \n",
            "15           2691  \n",
            "16           7460  \n",
            "17           5918  \n",
            "18          15841  \n",
            "19           9225  \n",
            "20          16365  \n",
            "21           5953  \n",
            "22           6193  \n",
            "TOTAL      143514  \n"
          ]
        }
      ]
    },
    {
      "cell_type": "code",
      "source": [
        "mayor_bos.to_csv(\"boston_wards.csv\")  "
      ],
      "metadata": {
        "id": "epeAtXNjHk4j"
      },
      "execution_count": 84,
      "outputs": []
    },
    {
      "cell_type": "code",
      "source": [
        "mayor_bos.to_excel('boston_wards.xlsx') "
      ],
      "metadata": {
        "id": "zAzaPywatwGP"
      },
      "execution_count": 85,
      "outputs": []
    }
  ]
}