{
 "cells": [
  {
   "cell_type": "code",
   "execution_count": 2,
   "id": "af6e5c14",
   "metadata": {},
   "outputs": [],
   "source": [
    "import tabula\n",
    "import pandas\n",
    "from tabula import read_pdf  "
   ]
  },
  {
   "cell_type": "code",
   "execution_count": 3,
   "id": "164db1b2",
   "metadata": {},
   "outputs": [],
   "source": [
    "bos = (\"https://www.boston.gov/sites/default/files/file/2021/11/2021-11-02-21-Mayor.pdf\")  #data source"
   ]
  },
  {
   "cell_type": "code",
   "execution_count": 4,
   "id": "b49d4f5e",
   "metadata": {},
   "outputs": [],
   "source": [
    "mayor1 = tabula.read_pdf(bos, pages='2') #reading each page"
   ]
  },
  {
   "cell_type": "code",
   "execution_count": 5,
   "id": "0772568b",
   "metadata": {},
   "outputs": [],
   "source": [
    "mayor2 = tabula.read_pdf(bos, pages='3') "
   ]
  },
  {
   "cell_type": "code",
   "execution_count": 6,
   "id": "a5f85d3c",
   "metadata": {},
   "outputs": [],
   "source": [
    "mayor3 = tabula.read_pdf(bos, pages='4') "
   ]
  },
  {
   "cell_type": "code",
   "execution_count": 7,
   "id": "6579686e",
   "metadata": {},
   "outputs": [],
   "source": [
    "mayor4 = tabula.read_pdf(bos, pages='5') "
   ]
  },
  {
   "cell_type": "code",
   "execution_count": 8,
   "id": "74ed4187",
   "metadata": {},
   "outputs": [],
   "source": [
    "mayor5 = tabula.read_pdf(bos, pages='6') "
   ]
  },
  {
   "cell_type": "code",
   "execution_count": 9,
   "id": "6e2e38bf",
   "metadata": {},
   "outputs": [],
   "source": [
    "mayor6 = tabula.read_pdf(bos, pages='7') "
   ]
  },
  {
   "cell_type": "code",
   "execution_count": 10,
   "id": "2883b959",
   "metadata": {},
   "outputs": [],
   "source": [
    "mayor7 = tabula.read_pdf(bos, pages='8') "
   ]
  },
  {
   "cell_type": "code",
   "execution_count": 11,
   "id": "a176e080",
   "metadata": {},
   "outputs": [],
   "source": [
    "mayor8 = tabula.read_pdf(bos, pages='9') "
   ]
  },
  {
   "cell_type": "code",
   "execution_count": 12,
   "id": "e17170f7",
   "metadata": {},
   "outputs": [],
   "source": [
    "mayor9 = tabula.read_pdf(bos, pages='10') "
   ]
  },
  {
   "cell_type": "code",
   "execution_count": 13,
   "id": "388994e7",
   "metadata": {},
   "outputs": [],
   "source": [
    "mayor10 = tabula.read_pdf(bos, pages='11') "
   ]
  },
  {
   "cell_type": "code",
   "execution_count": 14,
   "id": "83237f3c",
   "metadata": {},
   "outputs": [],
   "source": [
    "mayor11 = tabula.read_pdf(bos, pages='12') "
   ]
  },
  {
   "cell_type": "code",
   "execution_count": 15,
   "id": "f37e1f11",
   "metadata": {},
   "outputs": [],
   "source": [
    "mayor12 = tabula.read_pdf(bos, pages='13') "
   ]
  },
  {
   "cell_type": "code",
   "execution_count": 16,
   "id": "a7e2c18d",
   "metadata": {},
   "outputs": [],
   "source": [
    "mayor13 = tabula.read_pdf(bos, pages='14') "
   ]
  },
  {
   "cell_type": "code",
   "execution_count": 17,
   "id": "4ef86308",
   "metadata": {},
   "outputs": [],
   "source": [
    "mayor14 = tabula.read_pdf(bos, pages='15') "
   ]
  },
  {
   "cell_type": "code",
   "execution_count": 18,
   "id": "f799d101",
   "metadata": {},
   "outputs": [],
   "source": [
    "mayor15 = tabula.read_pdf(bos, pages='16') "
   ]
  },
  {
   "cell_type": "code",
   "execution_count": 19,
   "id": "8c07cce4",
   "metadata": {},
   "outputs": [],
   "source": [
    "mayor16 = tabula.read_pdf(bos, pages='17') "
   ]
  },
  {
   "cell_type": "code",
   "execution_count": 20,
   "id": "d12fbed8",
   "metadata": {},
   "outputs": [],
   "source": [
    "mayor17 = tabula.read_pdf(bos, pages='18') "
   ]
  },
  {
   "cell_type": "code",
   "execution_count": 21,
   "id": "92d7410a",
   "metadata": {},
   "outputs": [],
   "source": [
    "mayor18 = tabula.read_pdf(bos, pages='19') "
   ]
  },
  {
   "cell_type": "code",
   "execution_count": 22,
   "id": "cc59167b",
   "metadata": {},
   "outputs": [],
   "source": [
    "mayor19 = tabula.read_pdf(bos, pages='20') "
   ]
  },
  {
   "cell_type": "code",
   "execution_count": 23,
   "id": "612225b2",
   "metadata": {},
   "outputs": [],
   "source": [
    "mayor20 = tabula.read_pdf(bos, pages='21') "
   ]
  },
  {
   "cell_type": "code",
   "execution_count": 24,
   "id": "e6ee2560",
   "metadata": {},
   "outputs": [],
   "source": [
    "mayor21 = tabula.read_pdf(bos, pages='22') "
   ]
  },
  {
   "cell_type": "code",
   "execution_count": 25,
   "id": "f919d0d9",
   "metadata": {},
   "outputs": [],
   "source": [
    "mayor22 = tabula.read_pdf(bos, pages='23') "
   ]
  },
  {
   "cell_type": "code",
   "execution_count": 26,
   "id": "404751ff",
   "metadata": {},
   "outputs": [],
   "source": [
    "m1=mayor1[0] \n",
    "m1.rename(columns={'CANDIDATES':'Wards'},inplace=True)"
   ]
  },
  {
   "cell_type": "code",
   "execution_count": 27,
   "id": "f01af438",
   "metadata": {},
   "outputs": [],
   "source": [
    "m_1=m1.set_index([\"Wards\",m1.groupby(\"Wards\").cumcount()]).unstack().T.droplevel(1) #ward1"
   ]
  },
  {
   "cell_type": "code",
   "execution_count": 28,
   "id": "f86f5628",
   "metadata": {},
   "outputs": [],
   "source": [
    "m_1=m_1.drop('TOTAL', axis=0) #dropping total from the rows "
   ]
  },
  {
   "cell_type": "code",
   "execution_count": 29,
   "id": "d0cea2de",
   "metadata": {},
   "outputs": [],
   "source": [
    "m2=mayor2[0] \n",
    "m2.rename(columns={'CANDIDATES':'Wards'},inplace=True)"
   ]
  },
  {
   "cell_type": "code",
   "execution_count": 30,
   "id": "eeea150e",
   "metadata": {},
   "outputs": [],
   "source": [
    "m_2=m2.set_index([\"Wards\",m2.groupby(\"Wards\").cumcount()]).unstack().T.droplevel(1) #ward2"
   ]
  },
  {
   "cell_type": "code",
   "execution_count": 31,
   "id": "9d57026e",
   "metadata": {},
   "outputs": [],
   "source": [
    "m_2=m_2.drop('TOTAL', axis=0)"
   ]
  },
  {
   "cell_type": "code",
   "execution_count": 32,
   "id": "cedb4e4f",
   "metadata": {},
   "outputs": [],
   "source": [
    "m3=mayor3[0] \n",
    "m3.rename(columns={'CANDIDATES':'Wards'},inplace=True)"
   ]
  },
  {
   "cell_type": "code",
   "execution_count": 33,
   "id": "8aabca66",
   "metadata": {},
   "outputs": [],
   "source": [
    "m_3=m3.set_index([\"Wards\",m3.groupby(\"Wards\").cumcount()]).unstack().T.droplevel(1) #ward3"
   ]
  },
  {
   "cell_type": "code",
   "execution_count": 34,
   "id": "ae6b17c1",
   "metadata": {},
   "outputs": [],
   "source": [
    "m_3=m_3.drop('TOTAL', axis=0)"
   ]
  },
  {
   "cell_type": "code",
   "execution_count": 35,
   "id": "fbbafeb6",
   "metadata": {},
   "outputs": [],
   "source": [
    "m4=mayor4[0] \n",
    "m4.rename(columns={'CANDIDATES':'Wards'},inplace=True)"
   ]
  },
  {
   "cell_type": "code",
   "execution_count": 36,
   "id": "470ff4cf",
   "metadata": {},
   "outputs": [],
   "source": [
    "m_4=m4.set_index([\"Wards\",m4.groupby(\"Wards\").cumcount()]).unstack().T.droplevel(1) #ward4"
   ]
  },
  {
   "cell_type": "code",
   "execution_count": 37,
   "id": "94b5e102",
   "metadata": {},
   "outputs": [],
   "source": [
    "m_4=m_4.drop('TOTAL', axis=0)"
   ]
  },
  {
   "cell_type": "code",
   "execution_count": 38,
   "id": "e9113699",
   "metadata": {},
   "outputs": [],
   "source": [
    "m5=mayor5[0] \n",
    "m5.rename(columns={'CANDIDATES':'Wards'},inplace=True)"
   ]
  },
  {
   "cell_type": "code",
   "execution_count": 39,
   "id": "0ce5674a",
   "metadata": {},
   "outputs": [],
   "source": [
    "m_5=m5.set_index([\"Wards\",m5.groupby(\"Wards\").cumcount()]).unstack().T.droplevel(1) #ward5"
   ]
  },
  {
   "cell_type": "code",
   "execution_count": 40,
   "id": "233f7e8b",
   "metadata": {},
   "outputs": [],
   "source": [
    "m_5=m_5.drop('TOTAL', axis=0)"
   ]
  },
  {
   "cell_type": "code",
   "execution_count": 41,
   "id": "07c7997e",
   "metadata": {},
   "outputs": [],
   "source": [
    "m6=mayor6[0] \n",
    "m6.rename(columns={'CANDIDATES':'Wards'},inplace=True)"
   ]
  },
  {
   "cell_type": "code",
   "execution_count": 42,
   "id": "0c3e1614",
   "metadata": {},
   "outputs": [],
   "source": [
    "m_6=m6.set_index([\"Wards\",m6.groupby(\"Wards\").cumcount()]).unstack().T.droplevel(1) #ward6"
   ]
  },
  {
   "cell_type": "code",
   "execution_count": 43,
   "id": "19a94f54",
   "metadata": {},
   "outputs": [],
   "source": [
    "m_6=m_6.drop('TOTAL', axis=0)"
   ]
  },
  {
   "cell_type": "code",
   "execution_count": 44,
   "id": "dadcc0a9",
   "metadata": {},
   "outputs": [],
   "source": [
    "m7=mayor7[0] \n",
    "m7.rename(columns={'CANDIDATES':'Wards'},inplace=True)"
   ]
  },
  {
   "cell_type": "code",
   "execution_count": 45,
   "id": "cc4f45cf",
   "metadata": {},
   "outputs": [],
   "source": [
    "m_7=m7.set_index([\"Wards\",m7.groupby(\"Wards\").cumcount()]).unstack().T.droplevel(1) #ward7"
   ]
  },
  {
   "cell_type": "code",
   "execution_count": 46,
   "id": "399201fa",
   "metadata": {},
   "outputs": [],
   "source": [
    "m_7=m_7.drop('TOTAL', axis=0)"
   ]
  },
  {
   "cell_type": "code",
   "execution_count": 47,
   "id": "f396f842",
   "metadata": {},
   "outputs": [],
   "source": [
    "m8=mayor8[0] \n",
    "m8.rename(columns={'CANDIDATES':'Wards'},inplace=True)"
   ]
  },
  {
   "cell_type": "code",
   "execution_count": 48,
   "id": "65bf2bcc",
   "metadata": {},
   "outputs": [],
   "source": [
    "m_8=m8.set_index([\"Wards\",m8.groupby(\"Wards\").cumcount()]).unstack().T.droplevel(1) #ward8"
   ]
  },
  {
   "cell_type": "code",
   "execution_count": 49,
   "id": "99ff2879",
   "metadata": {},
   "outputs": [],
   "source": [
    "m_8=m_8.drop('TOTAL', axis=0)"
   ]
  },
  {
   "cell_type": "code",
   "execution_count": 50,
   "id": "af54e13b",
   "metadata": {},
   "outputs": [],
   "source": [
    "m9=mayor9[0] \n",
    "m9.rename(columns={'CANDIDATES':'Wards'},inplace=True)"
   ]
  },
  {
   "cell_type": "code",
   "execution_count": 51,
   "id": "f9264afb",
   "metadata": {},
   "outputs": [],
   "source": [
    "m_9=m9.set_index([\"Wards\",m9.groupby(\"Wards\").cumcount()]).unstack().T.droplevel(1) #ward9"
   ]
  },
  {
   "cell_type": "code",
   "execution_count": 52,
   "id": "dd60f9bb",
   "metadata": {},
   "outputs": [],
   "source": [
    "m_9=m_9.drop('TOTAL', axis=0)"
   ]
  },
  {
   "cell_type": "code",
   "execution_count": 53,
   "id": "bb1fe474",
   "metadata": {},
   "outputs": [],
   "source": [
    "m10=mayor10[0] \n",
    "m10.rename(columns={'CANDIDATES':'Wards'},inplace=True)"
   ]
  },
  {
   "cell_type": "code",
   "execution_count": 54,
   "id": "a3019ca1",
   "metadata": {},
   "outputs": [],
   "source": [
    "m_10=m10.set_index([\"Wards\",m10.groupby(\"Wards\").cumcount()]).unstack().T.droplevel(1)  #ward10"
   ]
  },
  {
   "cell_type": "code",
   "execution_count": 55,
   "id": "abaaa778",
   "metadata": {},
   "outputs": [],
   "source": [
    "m_10=m_10.drop('TOTAL', axis=0)"
   ]
  },
  {
   "cell_type": "code",
   "execution_count": 56,
   "id": "c0389675",
   "metadata": {},
   "outputs": [],
   "source": [
    "m11=mayor11[0] \n",
    "m11.rename(columns={'CANDIDATES':'Wards'},inplace=True)"
   ]
  },
  {
   "cell_type": "code",
   "execution_count": 57,
   "id": "ed85f7b0",
   "metadata": {},
   "outputs": [],
   "source": [
    "m_11=m11.set_index([\"Wards\",m11.groupby(\"Wards\").cumcount()]).unstack().T.droplevel(1) #ward11"
   ]
  },
  {
   "cell_type": "code",
   "execution_count": 58,
   "id": "43f5444f",
   "metadata": {},
   "outputs": [],
   "source": [
    "m_11=m_11.drop('TOTAL', axis=0)"
   ]
  },
  {
   "cell_type": "code",
   "execution_count": 59,
   "id": "54fefa26",
   "metadata": {},
   "outputs": [],
   "source": [
    "m12=mayor12[0] \n",
    "m12.rename(columns={'CANDIDATES':'Wards'},inplace=True)"
   ]
  },
  {
   "cell_type": "code",
   "execution_count": 60,
   "id": "088fc142",
   "metadata": {},
   "outputs": [],
   "source": [
    "m_12=m12.set_index([\"Wards\",m12.groupby(\"Wards\").cumcount()]).unstack().T.droplevel(1) #ward12"
   ]
  },
  {
   "cell_type": "code",
   "execution_count": 61,
   "id": "2b673cbf",
   "metadata": {},
   "outputs": [],
   "source": [
    "m_12=m_12.drop('TOTAL', axis=0)"
   ]
  },
  {
   "cell_type": "code",
   "execution_count": 62,
   "id": "dc498f27",
   "metadata": {},
   "outputs": [],
   "source": [
    "m13=mayor13[0] #ward14\n",
    "m13.rename(columns={'CANDIDATES':'Wards'},inplace=True)"
   ]
  },
  {
   "cell_type": "code",
   "execution_count": 63,
   "id": "f8746a66",
   "metadata": {},
   "outputs": [],
   "source": [
    "m_13=m13.set_index([\"Wards\",m13.groupby(\"Wards\").cumcount()]).unstack().T.droplevel(1) #ward13"
   ]
  },
  {
   "cell_type": "code",
   "execution_count": 64,
   "id": "fe445043",
   "metadata": {},
   "outputs": [],
   "source": [
    "m_13=m_13.drop('TOTAL', axis=0)"
   ]
  },
  {
   "cell_type": "code",
   "execution_count": 65,
   "id": "62a9838b",
   "metadata": {},
   "outputs": [],
   "source": [
    "m14=mayor14[0] #ward14\n",
    "m14.rename(columns={'CANDIDATES':'Wards'},inplace=True)\n",
    " "
   ]
  },
  {
   "cell_type": "code",
   "execution_count": 66,
   "id": "5ae64282",
   "metadata": {},
   "outputs": [],
   "source": [
    "m_14=m14.set_index([\"Wards\",m14.groupby(\"Wards\").cumcount()]).unstack().T.droplevel(1) #ward14"
   ]
  },
  {
   "cell_type": "code",
   "execution_count": 67,
   "id": "549f3a5d",
   "metadata": {},
   "outputs": [],
   "source": [
    "m_14=m_14.drop('TOTAL', axis=0)"
   ]
  },
  {
   "cell_type": "code",
   "execution_count": 68,
   "id": "06173c62",
   "metadata": {},
   "outputs": [],
   "source": [
    "m15=mayor15[0]  \n",
    "m15.rename(columns={'CANDIDATES':'Wards'},inplace=True) "
   ]
  },
  {
   "cell_type": "code",
   "execution_count": 69,
   "id": "701223e6",
   "metadata": {},
   "outputs": [],
   "source": [
    "m_15=m15.set_index([\"Wards\",m15.groupby(\"Wards\").cumcount()]).unstack().T.droplevel(1) #ward15"
   ]
  },
  {
   "cell_type": "code",
   "execution_count": 70,
   "id": "a20ef01e",
   "metadata": {},
   "outputs": [],
   "source": [
    "m_15=m_15.drop('TOTAL', axis=0)"
   ]
  },
  {
   "cell_type": "code",
   "execution_count": 71,
   "id": "1e628019",
   "metadata": {},
   "outputs": [],
   "source": [
    "m16=mayor16[0]   \n",
    "m16.rename(columns={'CANDIDATES':'Wards'},inplace=True)\n",
    " "
   ]
  },
  {
   "cell_type": "code",
   "execution_count": 72,
   "id": "4ea23769",
   "metadata": {},
   "outputs": [],
   "source": [
    "m_16=m16.set_index([\"Wards\",m16.groupby(\"Wards\").cumcount()]).unstack().T.droplevel(1) #ward16"
   ]
  },
  {
   "cell_type": "code",
   "execution_count": 73,
   "id": "6229e21e",
   "metadata": {},
   "outputs": [],
   "source": [
    "m_16=m_16.drop('TOTAL', axis=0)"
   ]
  },
  {
   "cell_type": "code",
   "execution_count": 74,
   "id": "823bc4dd",
   "metadata": {},
   "outputs": [],
   "source": [
    "m21=mayor21[0]  \n",
    "m21.rename(columns={'CANDIDATES':'Wards'},inplace=True)\n",
    "   "
   ]
  },
  {
   "cell_type": "code",
   "execution_count": 75,
   "id": "f20c28bb",
   "metadata": {},
   "outputs": [],
   "source": [
    "m_21=m21.set_index([\"Wards\",m21.groupby(\"Wards\").cumcount()]).unstack().T.droplevel(1) #ward21"
   ]
  },
  {
   "cell_type": "code",
   "execution_count": 76,
   "id": "0f122436",
   "metadata": {},
   "outputs": [],
   "source": [
    "m_21=m_21.drop('TOTAL', axis=0)"
   ]
  },
  {
   "cell_type": "code",
   "execution_count": 77,
   "id": "cfda69b5",
   "metadata": {},
   "outputs": [],
   "source": [
    "m22=mayor22[0]  \n",
    "m22.rename(columns={'CANDIDATES':'Wards'},inplace=True)\n",
    "  "
   ]
  },
  {
   "cell_type": "code",
   "execution_count": 78,
   "id": "5fc7101a",
   "metadata": {},
   "outputs": [],
   "source": [
    "m_22=m22.set_index([\"Wards\",m22.groupby(\"Wards\").cumcount()]).unstack().T.droplevel(1) #ward22"
   ]
  },
  {
   "cell_type": "code",
   "execution_count": 79,
   "id": "338eb1f6",
   "metadata": {},
   "outputs": [],
   "source": [
    "m_22=m_22.drop('TOTAL', axis=0)"
   ]
  },
  {
   "cell_type": "code",
   "execution_count": 80,
   "id": "1869173a",
   "metadata": {},
   "outputs": [],
   "source": [
    "m20=mayor20[0]  \n",
    "m20.rename(columns={'CANDIDATES':'Wards'},inplace=True)\n"
   ]
  },
  {
   "cell_type": "code",
   "execution_count": 81,
   "id": "91b624fa",
   "metadata": {},
   "outputs": [],
   "source": [
    "m_20=m20.set_index([\"Wards\",m20.groupby(\"Wards\").cumcount()]).unstack().T.droplevel(1) #ward20"
   ]
  },
  {
   "cell_type": "code",
   "execution_count": 82,
   "id": "84d95468",
   "metadata": {},
   "outputs": [],
   "source": [
    "m_20=m_20.drop('TOTAL', axis=0)"
   ]
  },
  {
   "cell_type": "code",
   "execution_count": 83,
   "id": "cf357bb0",
   "metadata": {},
   "outputs": [],
   "source": [
    "m19=mayor19[0]  \n",
    "m19.rename(columns={'CANDIDATES':'Wards'},inplace=True)\n",
    " "
   ]
  },
  {
   "cell_type": "code",
   "execution_count": 84,
   "id": "74b49e66",
   "metadata": {},
   "outputs": [],
   "source": [
    "m_19=m19.set_index([\"Wards\",m19.groupby(\"Wards\").cumcount()]).unstack().T.droplevel(1) #ward19"
   ]
  },
  {
   "cell_type": "code",
   "execution_count": 85,
   "id": "51a643e8",
   "metadata": {},
   "outputs": [],
   "source": [
    "m_19=m_19.drop('TOTAL', axis=0)"
   ]
  },
  {
   "cell_type": "code",
   "execution_count": 86,
   "id": "15967813",
   "metadata": {},
   "outputs": [],
   "source": [
    "m18=mayor18[0]  \n",
    "m18.rename(columns={'CANDIDATES':'Wards'},inplace=True)\n",
    " "
   ]
  },
  {
   "cell_type": "code",
   "execution_count": 87,
   "id": "814e458b",
   "metadata": {},
   "outputs": [],
   "source": [
    "m_18=m18.set_index([\"Wards\",m18.groupby(\"Wards\").cumcount()]).unstack().T.droplevel(1) #ward18"
   ]
  },
  {
   "cell_type": "code",
   "execution_count": 88,
   "id": "9689bc9d",
   "metadata": {},
   "outputs": [],
   "source": [
    "m_18=m_18.drop('TOTAL', axis=0)"
   ]
  },
  {
   "cell_type": "code",
   "execution_count": 89,
   "id": "e16bf1a8",
   "metadata": {},
   "outputs": [],
   "source": [
    "m17=mayor17[0]  \n",
    "m17.rename(columns={'CANDIDATES':'Wards'},inplace=True)\n",
    " "
   ]
  },
  {
   "cell_type": "code",
   "execution_count": 90,
   "id": "0463bd12",
   "metadata": {},
   "outputs": [],
   "source": [
    "m_17=m17.set_index([\"Wards\",m17.groupby(\"Wards\").cumcount()]).unstack().T.droplevel(1) #ward17"
   ]
  },
  {
   "cell_type": "code",
   "execution_count": 91,
   "id": "b873bdc3",
   "metadata": {},
   "outputs": [],
   "source": [
    "m_17 = m_17.drop('TOTAL', axis=0)"
   ]
  },
  {
   "cell_type": "code",
   "execution_count": 92,
   "id": "31ad1693",
   "metadata": {},
   "outputs": [],
   "source": [
    "wards_precincts = pandas.concat([m_1,m_2,m_3,m_4,m_5,m_6,m_7,m_8,m_9,m_10,m_11,m_12,m_13,\n",
    "                                m_14,m_15,m_16,m_17,m_18,m_19,m_20,m_21,m_22]) #joining all the dataframes"
   ]
  },
  {
   "cell_type": "code",
   "execution_count": 93,
   "id": "e91d6ce8",
   "metadata": {},
   "outputs": [],
   "source": [
    "wards_precincts=wards_precincts.drop('Unnamed: 0', axis=0) #removing NaN"
   ]
  },
  {
   "cell_type": "code",
   "execution_count": 99,
   "id": "683f42df",
   "metadata": {},
   "outputs": [],
   "source": [
    "first_col=['ANNISSA ESSAIBI GEORGE','MICHELLE WU','ALL OTHERS','BLANKS','BALLOTS CAST','VOTES CAST'] \n",
    "wards_precincts=wards_precincts[first_col]"
   ]
  },
  {
   "cell_type": "code",
   "execution_count": 101,
   "id": "e21a99ee",
   "metadata": {},
   "outputs": [],
   "source": [
    "wards_precincts.to_csv('2021_Bos_wards_precincts.csv')  #saving to csv"
   ]
  }
 ],
 "metadata": {
  "kernelspec": {
   "display_name": "Python 3 (ipykernel)",
   "language": "python",
   "name": "python3"
  },
  "language_info": {
   "codemirror_mode": {
    "name": "ipython",
    "version": 3
   },
   "file_extension": ".py",
   "mimetype": "text/x-python",
   "name": "python",
   "nbconvert_exporter": "python",
   "pygments_lexer": "ipython3",
   "version": "3.9.7"
  }
 },
 "nbformat": 4,
 "nbformat_minor": 5
}
