{
 "cells": [
  {
   "cell_type": "code",
   "execution_count": 16,
   "id": "34774ecf",
   "metadata": {},
   "outputs": [],
   "source": [
    "import pandas as pd\n",
    "import bs4"
   ]
  },
  {
   "cell_type": "code",
   "execution_count": 2,
   "id": "3dd03f04",
   "metadata": {},
   "outputs": [],
   "source": [
    "url = \"https://en.wikipedia.org/wiki/Opinion_polling_for_the_2022_French_presidential_election#Macron_vs._Le_Pen\""
   ]
  },
  {
   "cell_type": "code",
   "execution_count": 3,
   "id": "469e98b3",
   "metadata": {},
   "outputs": [],
   "source": [
    "presidentielle=pd.read_html(url, header=0, flavor='html5lib')   "
   ]
  },
  {
   "cell_type": "code",
   "execution_count": 4,
   "id": "f7905277",
   "metadata": {},
   "outputs": [
    {
     "name": "stdout",
     "output_type": "stream",
     "text": [
      "        Pollingfirm   Fieldworkdate  Samplesize    Abs.  Unnamed: 4 Unnamed: 5\n",
      "0       Pollingfirm   Fieldworkdate  Samplesize    Abs.  MacronLREM   Le PenRN\n",
      "1       Pollingfirm   Fieldworkdate  Samplesize    Abs.         NaN        NaN\n",
      "2        OpinionWay  10–11 Apr 2022        1059       –         54%        46%\n",
      "3    OpinionWay-Kéa  10–11 Apr 2022        2174     26%         55%        45%\n",
      "4     Ifop-Fiducial  10–11 Apr 2022        1003     25%       52.5%      47.5%\n",
      "..              ...             ...         ...     ...         ...        ...\n",
      "278            Ifop  18–19 Jun 2020         992       –         55%        45%\n",
      "279            Ifop  28–30 Oct 2019        1396       –         55%        45%\n",
      "280            Ifop  27–28 May 2019         927       –         57%        43%\n",
      "281            Ifop    1–2 Feb 2019         912       –         56%        44%\n",
      "282   2017 election      7 May 2017           –  25.44%      66.10%     33.90%\n",
      "\n",
      "[283 rows x 6 columns]\n"
     ]
    }
   ],
   "source": [
    "print(presidentielle[8]) "
   ]
  },
  {
   "cell_type": "code",
   "execution_count": 5,
   "id": "17a5573d",
   "metadata": {},
   "outputs": [],
   "source": [
    "male = presidentielle[8] #ma+le=male"
   ]
  },
  {
   "cell_type": "code",
   "execution_count": 6,
   "id": "83e1ac95",
   "metadata": {},
   "outputs": [
    {
     "name": "stdout",
     "output_type": "stream",
     "text": [
      "        Pollingfirm   Fieldworkdate  Samplesize    Abs.  Unnamed: 4 Unnamed: 5\n",
      "0       Pollingfirm   Fieldworkdate  Samplesize    Abs.  MacronLREM   Le PenRN\n",
      "1       Pollingfirm   Fieldworkdate  Samplesize    Abs.         NaN        NaN\n",
      "2        OpinionWay  10–11 Apr 2022        1059       –         54%        46%\n",
      "3    OpinionWay-Kéa  10–11 Apr 2022        2174     26%         55%        45%\n",
      "4     Ifop-Fiducial  10–11 Apr 2022        1003     25%       52.5%      47.5%\n",
      "..              ...             ...         ...     ...         ...        ...\n",
      "278            Ifop  18–19 Jun 2020         992       –         55%        45%\n",
      "279            Ifop  28–30 Oct 2019        1396       –         55%        45%\n",
      "280            Ifop  27–28 May 2019         927       –         57%        43%\n",
      "281            Ifop    1–2 Feb 2019         912       –         56%        44%\n",
      "282   2017 election      7 May 2017           –  25.44%      66.10%     33.90%\n",
      "\n",
      "[283 rows x 6 columns]\n"
     ]
    }
   ],
   "source": [
    "print(male) "
   ]
  },
  {
   "cell_type": "code",
   "execution_count": 7,
   "id": "899ed537",
   "metadata": {},
   "outputs": [],
   "source": [
    "male=male.drop('Abs.',axis=1) #droping the abstain column"
   ]
  },
  {
   "cell_type": "code",
   "execution_count": 8,
   "id": "9b1b71a4",
   "metadata": {},
   "outputs": [
    {
     "name": "stdout",
     "output_type": "stream",
     "text": [
      "        Pollingfirm   Fieldworkdate  Samplesize  Unnamed: 4 Unnamed: 5\n",
      "0       Pollingfirm   Fieldworkdate  Samplesize  MacronLREM   Le PenRN\n",
      "1       Pollingfirm   Fieldworkdate  Samplesize         NaN        NaN\n",
      "2        OpinionWay  10–11 Apr 2022        1059         54%        46%\n",
      "3    OpinionWay-Kéa  10–11 Apr 2022        2174         55%        45%\n",
      "4     Ifop-Fiducial  10–11 Apr 2022        1003       52.5%      47.5%\n",
      "..              ...             ...         ...         ...        ...\n",
      "278            Ifop  18–19 Jun 2020         992         55%        45%\n",
      "279            Ifop  28–30 Oct 2019        1396         55%        45%\n",
      "280            Ifop  27–28 May 2019         927         57%        43%\n",
      "281            Ifop    1–2 Feb 2019         912         56%        44%\n",
      "282   2017 election      7 May 2017           –      66.10%     33.90%\n",
      "\n",
      "[283 rows x 5 columns]\n"
     ]
    }
   ],
   "source": [
    "print(male)"
   ]
  },
  {
   "cell_type": "code",
   "execution_count": 9,
   "id": "7e61e5b0",
   "metadata": {},
   "outputs": [],
   "source": [
    "male=male.drop(0) #dropping the extra row"
   ]
  },
  {
   "cell_type": "code",
   "execution_count": 10,
   "id": "411193b0",
   "metadata": {},
   "outputs": [],
   "source": [
    "male=male.drop(1) #dropping the row with NaN"
   ]
  },
  {
   "cell_type": "code",
   "execution_count": 11,
   "id": "934453ac",
   "metadata": {},
   "outputs": [
    {
     "name": "stdout",
     "output_type": "stream",
     "text": [
      "            Pollingfirm   Fieldworkdate Samplesize Unnamed: 4 Unnamed: 5\n",
      "2            OpinionWay  10–11 Apr 2022       1059        54%        46%\n",
      "3        OpinionWay-Kéa  10–11 Apr 2022       2174        55%        45%\n",
      "4         Ifop-Fiducial  10–11 Apr 2022       1003      52.5%      47.5%\n",
      "5                 Odoxa     10 Apr 2022       1505      54.5%      45.5%\n",
      "6    Ipsos-Sopra Steria     10 Apr 2022       1172        54%        46%\n",
      "..                  ...             ...        ...        ...        ...\n",
      "278                Ifop  18–19 Jun 2020        992        55%        45%\n",
      "279                Ifop  28–30 Oct 2019       1396        55%        45%\n",
      "280                Ifop  27–28 May 2019        927        57%        43%\n",
      "281                Ifop    1–2 Feb 2019        912        56%        44%\n",
      "282       2017 election      7 May 2017          –     66.10%     33.90%\n",
      "\n",
      "[281 rows x 5 columns]\n"
     ]
    }
   ],
   "source": [
    "print(male) #after dropping the extra rows"
   ]
  },
  {
   "cell_type": "code",
   "execution_count": 12,
   "id": "555ce034",
   "metadata": {},
   "outputs": [],
   "source": [
    "male = male.rename(columns={'Pollingfirm':'PollingFirm', 'Fieldworkdate':'FieldWorkDate', 'Samplesize':'SampleSize', 'Unnamed: 4':'MacronLREM',\n",
    "       'Unnamed: 5':'LePenNR'}) #New names for the columns  "
   ]
  },
  {
   "cell_type": "code",
   "execution_count": 13,
   "id": "2fe2709f",
   "metadata": {},
   "outputs": [
    {
     "name": "stdout",
     "output_type": "stream",
     "text": [
      "            PollingFirm   FieldWorkDate SampleSize MacronLREM LePenNR\n",
      "2            OpinionWay  10–11 Apr 2022       1059        54%     46%\n",
      "3        OpinionWay-Kéa  10–11 Apr 2022       2174        55%     45%\n",
      "4         Ifop-Fiducial  10–11 Apr 2022       1003      52.5%   47.5%\n",
      "5                 Odoxa     10 Apr 2022       1505      54.5%   45.5%\n",
      "6    Ipsos-Sopra Steria     10 Apr 2022       1172        54%     46%\n",
      "..                  ...             ...        ...        ...     ...\n",
      "278                Ifop  18–19 Jun 2020        992        55%     45%\n",
      "279                Ifop  28–30 Oct 2019       1396        55%     45%\n",
      "280                Ifop  27–28 May 2019        927        57%     43%\n",
      "281                Ifop    1–2 Feb 2019        912        56%     44%\n",
      "282       2017 election      7 May 2017          –     66.10%  33.90%\n",
      "\n",
      "[281 rows x 5 columns]\n"
     ]
    }
   ],
   "source": [
    "print(male) #The new table "
   ]
  },
  {
   "cell_type": "code",
   "execution_count": null,
   "id": "da9e74df",
   "metadata": {},
   "outputs": [],
   "source": []
  }
 ],
 "metadata": {
  "kernelspec": {
   "display_name": "Python 3 (ipykernel)",
   "language": "python",
   "name": "python3"
  },
  "language_info": {
   "codemirror_mode": {
    "name": "ipython",
    "version": 3
   },
   "file_extension": ".py",
   "mimetype": "text/x-python",
   "name": "python",
   "nbconvert_exporter": "python",
   "pygments_lexer": "ipython3",
   "version": "3.9.7"
  }
 },
 "nbformat": 4,
 "nbformat_minor": 5
}
