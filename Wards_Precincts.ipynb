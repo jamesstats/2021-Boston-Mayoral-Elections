{
 "cells": [
  {
   "cell_type": "code",
   "execution_count": 138,
   "id": "af6e5c14",
   "metadata": {},
   "outputs": [],
   "source": [
    "import tabula\n",
    "import pandas"
   ]
  },
  {
   "cell_type": "code",
   "execution_count": 4,
   "id": "164db1b2",
   "metadata": {},
   "outputs": [],
   "source": [
    "bos = (\"https://www.boston.gov/sites/default/files/file/2021/11/2021-11-02-21-Mayor.pdf\")  #data source"
   ]
  },
  {
   "cell_type": "code",
   "execution_count": 5,
   "id": "b49d4f5e",
   "metadata": {},
   "outputs": [],
   "source": [
    "mayor1 = tabula.read_pdf(bos, pages='2') #reading each page"
   ]
  },
  {
   "cell_type": "code",
   "execution_count": 6,
   "id": "0772568b",
   "metadata": {},
   "outputs": [],
   "source": [
    "mayor2 = tabula.read_pdf(bos, pages='3') "
   ]
  },
  {
   "cell_type": "code",
   "execution_count": 7,
   "id": "a5f85d3c",
   "metadata": {},
   "outputs": [],
   "source": [
    "mayor3 = tabula.read_pdf(bos, pages='4') "
   ]
  },
  {
   "cell_type": "code",
   "execution_count": 8,
   "id": "6579686e",
   "metadata": {},
   "outputs": [],
   "source": [
    "mayor4 = tabula.read_pdf(bos, pages='5') "
   ]
  },
  {
   "cell_type": "code",
   "execution_count": 9,
   "id": "74ed4187",
   "metadata": {},
   "outputs": [],
   "source": [
    "mayor5 = tabula.read_pdf(bos, pages='6') "
   ]
  },
  {
   "cell_type": "code",
   "execution_count": 10,
   "id": "6e2e38bf",
   "metadata": {},
   "outputs": [],
   "source": [
    "mayor6 = tabula.read_pdf(bos, pages='7') "
   ]
  },
  {
   "cell_type": "code",
   "execution_count": 11,
   "id": "2883b959",
   "metadata": {},
   "outputs": [],
   "source": [
    "mayor7 = tabula.read_pdf(bos, pages='8') "
   ]
  },
  {
   "cell_type": "code",
   "execution_count": 12,
   "id": "a176e080",
   "metadata": {},
   "outputs": [],
   "source": [
    "mayor8 = tabula.read_pdf(bos, pages='9') "
   ]
  },
  {
   "cell_type": "code",
   "execution_count": 13,
   "id": "e17170f7",
   "metadata": {},
   "outputs": [],
   "source": [
    "mayor9 = tabula.read_pdf(bos, pages='10') "
   ]
  },
  {
   "cell_type": "code",
   "execution_count": 14,
   "id": "388994e7",
   "metadata": {},
   "outputs": [],
   "source": [
    "mayor10 = tabula.read_pdf(bos, pages='11') "
   ]
  },
  {
   "cell_type": "code",
   "execution_count": 15,
   "id": "83237f3c",
   "metadata": {},
   "outputs": [],
   "source": [
    "mayor11 = tabula.read_pdf(bos, pages='12') "
   ]
  },
  {
   "cell_type": "code",
   "execution_count": 16,
   "id": "f37e1f11",
   "metadata": {},
   "outputs": [],
   "source": [
    "mayor12 = tabula.read_pdf(bos, pages='13') "
   ]
  },
  {
   "cell_type": "code",
   "execution_count": 17,
   "id": "a7e2c18d",
   "metadata": {},
   "outputs": [],
   "source": [
    "mayor13 = tabula.read_pdf(bos, pages='14') "
   ]
  },
  {
   "cell_type": "code",
   "execution_count": 18,
   "id": "4ef86308",
   "metadata": {},
   "outputs": [],
   "source": [
    "mayor14 = tabula.read_pdf(bos, pages='15') "
   ]
  },
  {
   "cell_type": "code",
   "execution_count": 19,
   "id": "f799d101",
   "metadata": {},
   "outputs": [],
   "source": [
    "mayor15 = tabula.read_pdf(bos, pages='16') "
   ]
  },
  {
   "cell_type": "code",
   "execution_count": 20,
   "id": "8c07cce4",
   "metadata": {},
   "outputs": [],
   "source": [
    "mayor16 = tabula.read_pdf(bos, pages='17') "
   ]
  },
  {
   "cell_type": "code",
   "execution_count": 21,
   "id": "d12fbed8",
   "metadata": {},
   "outputs": [],
   "source": [
    "mayor17 = tabula.read_pdf(bos, pages='18') "
   ]
  },
  {
   "cell_type": "code",
   "execution_count": 22,
   "id": "92d7410a",
   "metadata": {},
   "outputs": [],
   "source": [
    "mayor18 = tabula.read_pdf(bos, pages='19') "
   ]
  },
  {
   "cell_type": "code",
   "execution_count": 23,
   "id": "cc59167b",
   "metadata": {},
   "outputs": [],
   "source": [
    "mayor19 = tabula.read_pdf(bos, pages='20') "
   ]
  },
  {
   "cell_type": "code",
   "execution_count": 24,
   "id": "612225b2",
   "metadata": {},
   "outputs": [],
   "source": [
    "mayor20 = tabula.read_pdf(bos, pages='21') "
   ]
  },
  {
   "cell_type": "code",
   "execution_count": 25,
   "id": "e6ee2560",
   "metadata": {},
   "outputs": [],
   "source": [
    "mayor21 = tabula.read_pdf(bos, pages='22') "
   ]
  },
  {
   "cell_type": "code",
   "execution_count": 26,
   "id": "f919d0d9",
   "metadata": {},
   "outputs": [],
   "source": [
    "mayor22 = tabula.read_pdf(bos, pages='23') "
   ]
  },
  {
   "cell_type": "code",
   "execution_count": 81,
   "id": "338ed374",
   "metadata": {},
   "outputs": [],
   "source": [
    "m1=mayor1[0] \n",
    "m1.rename(columns={'CANDIDATES':'Wards'},inplace=True)"
   ]
  },
  {
   "cell_type": "code",
   "execution_count": 82,
   "id": "522968ca",
   "metadata": {},
   "outputs": [],
   "source": [
    "m_1=m1.set_index([\"Wards\",m1.groupby(\"Wards\").cumcount()]).unstack().T.droplevel(1) #ward1"
   ]
  },
  {
   "cell_type": "code",
   "execution_count": 132,
   "id": "0ee2bc69",
   "metadata": {},
   "outputs": [],
   "source": [
    "m_1=m_1.drop('TOTAL', axis=0) #dropping total from the rows "
   ]
  },
  {
   "cell_type": "code",
   "execution_count": 79,
   "id": "4abc29d2",
   "metadata": {},
   "outputs": [],
   "source": [
    "m2=mayor2[0] \n",
    "m2.rename(columns={'CANDIDATES':'Wards'},inplace=True)"
   ]
  },
  {
   "cell_type": "code",
   "execution_count": 80,
   "id": "3168e0ce",
   "metadata": {},
   "outputs": [],
   "source": [
    "m_2=m2.set_index([\"Wards\",m2.groupby(\"Wards\").cumcount()]).unstack().T.droplevel(1) #ward2"
   ]
  },
  {
   "cell_type": "code",
   "execution_count": 131,
   "id": "2d4fa445",
   "metadata": {},
   "outputs": [],
   "source": [
    "m_2=m_2.drop('TOTAL', axis=0)"
   ]
  },
  {
   "cell_type": "code",
   "execution_count": 77,
   "id": "307a067e",
   "metadata": {},
   "outputs": [],
   "source": [
    "m3=mayor3[0] \n",
    "m3.rename(columns={'CANDIDATES':'Wards'},inplace=True)"
   ]
  },
  {
   "cell_type": "code",
   "execution_count": 78,
   "id": "186a297c",
   "metadata": {},
   "outputs": [],
   "source": [
    "m_3=m3.set_index([\"Wards\",m3.groupby(\"Wards\").cumcount()]).unstack().T.droplevel(1) #ward3"
   ]
  },
  {
   "cell_type": "code",
   "execution_count": 130,
   "id": "9bbea916",
   "metadata": {},
   "outputs": [],
   "source": [
    "m_3=m_3.drop('TOTAL', axis=0)"
   ]
  },
  {
   "cell_type": "code",
   "execution_count": 75,
   "id": "2b5b4d80",
   "metadata": {},
   "outputs": [],
   "source": [
    "m4=mayor4[0] \n",
    "m4.rename(columns={'CANDIDATES':'Wards'},inplace=True)"
   ]
  },
  {
   "cell_type": "code",
   "execution_count": 76,
   "id": "ae24e64d",
   "metadata": {},
   "outputs": [],
   "source": [
    "m_4=m4.set_index([\"Wards\",m4.groupby(\"Wards\").cumcount()]).unstack().T.droplevel(1) #ward4"
   ]
  },
  {
   "cell_type": "code",
   "execution_count": 128,
   "id": "c31fb368",
   "metadata": {},
   "outputs": [],
   "source": [
    "m_4=m_4.drop('TOTAL', axis=0)"
   ]
  },
  {
   "cell_type": "code",
   "execution_count": 73,
   "id": "4e2984fa",
   "metadata": {},
   "outputs": [],
   "source": [
    "m5=mayor5[0] \n",
    "m5.rename(columns={'CANDIDATES':'Wards'},inplace=True)"
   ]
  },
  {
   "cell_type": "code",
   "execution_count": 74,
   "id": "cb6aa0f7",
   "metadata": {},
   "outputs": [],
   "source": [
    "m_5=m5.set_index([\"Wards\",m5.groupby(\"Wards\").cumcount()]).unstack().T.droplevel(1) #ward5"
   ]
  },
  {
   "cell_type": "code",
   "execution_count": 127,
   "id": "1e3eb50a",
   "metadata": {},
   "outputs": [],
   "source": [
    "m_5=m_5.drop('TOTAL', axis=0)"
   ]
  },
  {
   "cell_type": "code",
   "execution_count": 71,
   "id": "876498d4",
   "metadata": {},
   "outputs": [],
   "source": [
    "m6=mayor6[0] \n",
    "m6.rename(columns={'CANDIDATES':'Wards'},inplace=True)"
   ]
  },
  {
   "cell_type": "code",
   "execution_count": 72,
   "id": "a4e7c3d2",
   "metadata": {},
   "outputs": [],
   "source": [
    "m_6=m6.set_index([\"Wards\",m6.groupby(\"Wards\").cumcount()]).unstack().T.droplevel(1) #ward6"
   ]
  },
  {
   "cell_type": "code",
   "execution_count": 126,
   "id": "853e7c81",
   "metadata": {},
   "outputs": [],
   "source": [
    "m_6=m_6.drop('TOTAL', axis=0)"
   ]
  },
  {
   "cell_type": "code",
   "execution_count": 69,
   "id": "15f9e6ef",
   "metadata": {},
   "outputs": [],
   "source": [
    "m7=mayor7[0] \n",
    "m7.rename(columns={'CANDIDATES':'Wards'},inplace=True)"
   ]
  },
  {
   "cell_type": "code",
   "execution_count": 70,
   "id": "8b5cbacf",
   "metadata": {},
   "outputs": [],
   "source": [
    "m_7=m7.set_index([\"Wards\",m7.groupby(\"Wards\").cumcount()]).unstack().T.droplevel(1) #ward7"
   ]
  },
  {
   "cell_type": "code",
   "execution_count": 125,
   "id": "38642b85",
   "metadata": {},
   "outputs": [],
   "source": [
    "m_7=m_7.drop('TOTAL', axis=0)"
   ]
  },
  {
   "cell_type": "code",
   "execution_count": 67,
   "id": "429a1b40",
   "metadata": {},
   "outputs": [],
   "source": [
    "m8=mayor8[0] \n",
    "m8.rename(columns={'CANDIDATES':'Wards'},inplace=True)"
   ]
  },
  {
   "cell_type": "code",
   "execution_count": 68,
   "id": "c1a37654",
   "metadata": {},
   "outputs": [],
   "source": [
    "m_8=m8.set_index([\"Wards\",m8.groupby(\"Wards\").cumcount()]).unstack().T.droplevel(1) #ward8"
   ]
  },
  {
   "cell_type": "code",
   "execution_count": 124,
   "id": "7d6c8bd1",
   "metadata": {},
   "outputs": [],
   "source": [
    "m_8=m_8.drop('TOTAL', axis=0)"
   ]
  },
  {
   "cell_type": "code",
   "execution_count": 65,
   "id": "5e124802",
   "metadata": {},
   "outputs": [],
   "source": [
    "m9=mayor9[0] \n",
    "m9.rename(columns={'CANDIDATES':'Wards'},inplace=True)"
   ]
  },
  {
   "cell_type": "code",
   "execution_count": 66,
   "id": "9201d2f5",
   "metadata": {},
   "outputs": [],
   "source": [
    "m_9=m9.set_index([\"Wards\",m9.groupby(\"Wards\").cumcount()]).unstack().T.droplevel(1) #ward9"
   ]
  },
  {
   "cell_type": "code",
   "execution_count": 123,
   "id": "83419f93",
   "metadata": {},
   "outputs": [],
   "source": [
    "m_9=m_9.drop('TOTAL', axis=0)"
   ]
  },
  {
   "cell_type": "code",
   "execution_count": 63,
   "id": "d54a0b63",
   "metadata": {},
   "outputs": [],
   "source": [
    "m10=mayor10[0] \n",
    "m10.rename(columns={'CANDIDATES':'Wards'},inplace=True)"
   ]
  },
  {
   "cell_type": "code",
   "execution_count": 64,
   "id": "2e1409fe",
   "metadata": {},
   "outputs": [],
   "source": [
    "m_10=m10.set_index([\"Wards\",m10.groupby(\"Wards\").cumcount()]).unstack().T.droplevel(1)  #ward10"
   ]
  },
  {
   "cell_type": "code",
   "execution_count": 122,
   "id": "2d0a62b5",
   "metadata": {},
   "outputs": [],
   "source": [
    "m_10=m_10.drop('TOTAL', axis=0)"
   ]
  },
  {
   "cell_type": "code",
   "execution_count": 61,
   "id": "7af91755",
   "metadata": {},
   "outputs": [],
   "source": [
    "m11=mayor11[0] \n",
    "m11.rename(columns={'CANDIDATES':'Wards'},inplace=True)"
   ]
  },
  {
   "cell_type": "code",
   "execution_count": 62,
   "id": "ff6d9cfa",
   "metadata": {},
   "outputs": [],
   "source": [
    "m_11=m11.set_index([\"Wards\",m11.groupby(\"Wards\").cumcount()]).unstack().T.droplevel(1) #ward11"
   ]
  },
  {
   "cell_type": "code",
   "execution_count": 121,
   "id": "6e1e88f3",
   "metadata": {},
   "outputs": [],
   "source": [
    "m_11=m_11.drop('TOTAL', axis=0)"
   ]
  },
  {
   "cell_type": "code",
   "execution_count": 59,
   "id": "3f58b9f1",
   "metadata": {},
   "outputs": [],
   "source": [
    "m12=mayor12[0] \n",
    "m12.rename(columns={'CANDIDATES':'Wards'},inplace=True)"
   ]
  },
  {
   "cell_type": "code",
   "execution_count": 60,
   "id": "268eae81",
   "metadata": {},
   "outputs": [],
   "source": [
    "m_12=m12.set_index([\"Wards\",m12.groupby(\"Wards\").cumcount()]).unstack().T.droplevel(1) #ward12"
   ]
  },
  {
   "cell_type": "code",
   "execution_count": 120,
   "id": "01ce9970",
   "metadata": {},
   "outputs": [],
   "source": [
    "m_12=m_12.drop('TOTAL', axis=0)"
   ]
  },
  {
   "cell_type": "code",
   "execution_count": 57,
   "id": "c04919ac",
   "metadata": {},
   "outputs": [],
   "source": [
    "m13=mayor13[0] #ward14\n",
    "m13.rename(columns={'CANDIDATES':'Wards'},inplace=True)"
   ]
  },
  {
   "cell_type": "code",
   "execution_count": 58,
   "id": "a515bbd7",
   "metadata": {},
   "outputs": [],
   "source": [
    "m_13=m13.set_index([\"Wards\",m13.groupby(\"Wards\").cumcount()]).unstack().T.droplevel(1) #ward13"
   ]
  },
  {
   "cell_type": "code",
   "execution_count": 119,
   "id": "e733824b",
   "metadata": {},
   "outputs": [],
   "source": [
    "m_13=m_13.drop('TOTAL', axis=0)"
   ]
  },
  {
   "cell_type": "code",
   "execution_count": 54,
   "id": "36b8f35c",
   "metadata": {},
   "outputs": [],
   "source": [
    "m14=mayor14[0] #ward14\n",
    "m14.rename(columns={'CANDIDATES':'Wards'},inplace=True)\n",
    " "
   ]
  },
  {
   "cell_type": "code",
   "execution_count": 55,
   "id": "a51e0941",
   "metadata": {},
   "outputs": [],
   "source": [
    "m_14=m14.set_index([\"Wards\",m14.groupby(\"Wards\").cumcount()]).unstack().T.droplevel(1) #ward14"
   ]
  },
  {
   "cell_type": "code",
   "execution_count": 118,
   "id": "4d30eae5",
   "metadata": {},
   "outputs": [],
   "source": [
    "m_14=m_14.drop('TOTAL', axis=0)"
   ]
  },
  {
   "cell_type": "code",
   "execution_count": 83,
   "id": "06173c62",
   "metadata": {},
   "outputs": [],
   "source": [
    "m15=mayor15[0]  \n",
    "m15.rename(columns={'CANDIDATES':'Wards'},inplace=True) "
   ]
  },
  {
   "cell_type": "code",
   "execution_count": 84,
   "id": "701223e6",
   "metadata": {},
   "outputs": [],
   "source": [
    "m_15=m15.set_index([\"Wards\",m15.groupby(\"Wards\").cumcount()]).unstack().T.droplevel(1) #ward15"
   ]
  },
  {
   "cell_type": "code",
   "execution_count": 117,
   "id": "ebdf5c74",
   "metadata": {},
   "outputs": [],
   "source": [
    "m_15=m_15.drop('TOTAL', axis=0)"
   ]
  },
  {
   "cell_type": "code",
   "execution_count": 85,
   "id": "1e628019",
   "metadata": {},
   "outputs": [],
   "source": [
    "m16=mayor16[0]   \n",
    "m16.rename(columns={'CANDIDATES':'Wards'},inplace=True)\n",
    " "
   ]
  },
  {
   "cell_type": "code",
   "execution_count": 86,
   "id": "4ea23769",
   "metadata": {},
   "outputs": [],
   "source": [
    "m_16=m16.set_index([\"Wards\",m16.groupby(\"Wards\").cumcount()]).unstack().T.droplevel(1) #ward16"
   ]
  },
  {
   "cell_type": "code",
   "execution_count": 116,
   "id": "c0d86e6c",
   "metadata": {},
   "outputs": [],
   "source": [
    "m_16=m_16.drop('TOTAL', axis=0)"
   ]
  },
  {
   "cell_type": "code",
   "execution_count": 87,
   "id": "823bc4dd",
   "metadata": {},
   "outputs": [],
   "source": [
    "m21=mayor21[0]  \n",
    "m21.rename(columns={'CANDIDATES':'Wards'},inplace=True)\n",
    "   "
   ]
  },
  {
   "cell_type": "code",
   "execution_count": 88,
   "id": "f20c28bb",
   "metadata": {},
   "outputs": [],
   "source": [
    "m_21=m21.set_index([\"Wards\",m21.groupby(\"Wards\").cumcount()]).unstack().T.droplevel(1) #ward21"
   ]
  },
  {
   "cell_type": "code",
   "execution_count": 115,
   "id": "4528cc45",
   "metadata": {},
   "outputs": [],
   "source": [
    "m_21=m_21.drop('TOTAL', axis=0)"
   ]
  },
  {
   "cell_type": "code",
   "execution_count": 43,
   "id": "cfda69b5",
   "metadata": {},
   "outputs": [],
   "source": [
    "m22=mayor22[0]  \n",
    "m22.rename(columns={'CANDIDATES':'Wards'},inplace=True)\n",
    "  "
   ]
  },
  {
   "cell_type": "code",
   "execution_count": 89,
   "id": "5fc7101a",
   "metadata": {},
   "outputs": [],
   "source": [
    "m_22=m22.set_index([\"Wards\",m22.groupby(\"Wards\").cumcount()]).unstack().T.droplevel(1) #ward22"
   ]
  },
  {
   "cell_type": "code",
   "execution_count": 114,
   "id": "b9db431d",
   "metadata": {},
   "outputs": [],
   "source": [
    "m_22=m_22.drop('TOTAL', axis=0)"
   ]
  },
  {
   "cell_type": "code",
   "execution_count": 90,
   "id": "1869173a",
   "metadata": {},
   "outputs": [],
   "source": [
    "m20=mayor20[0]  \n",
    "m20.rename(columns={'CANDIDATES':'Wards'},inplace=True)\n"
   ]
  },
  {
   "cell_type": "code",
   "execution_count": 91,
   "id": "91b624fa",
   "metadata": {},
   "outputs": [],
   "source": [
    "m_20=m20.set_index([\"Wards\",m20.groupby(\"Wards\").cumcount()]).unstack().T.droplevel(1) #ward20"
   ]
  },
  {
   "cell_type": "code",
   "execution_count": 113,
   "id": "d3c0501b",
   "metadata": {},
   "outputs": [],
   "source": [
    "m_20=m_20.drop('TOTAL', axis=0)"
   ]
  },
  {
   "cell_type": "code",
   "execution_count": 92,
   "id": "cf357bb0",
   "metadata": {},
   "outputs": [],
   "source": [
    "m19=mayor19[0]  \n",
    "m19.rename(columns={'CANDIDATES':'Wards'},inplace=True)\n",
    " "
   ]
  },
  {
   "cell_type": "code",
   "execution_count": 93,
   "id": "74b49e66",
   "metadata": {},
   "outputs": [],
   "source": [
    "m_19=m19.set_index([\"Wards\",m19.groupby(\"Wards\").cumcount()]).unstack().T.droplevel(1) #ward19"
   ]
  },
  {
   "cell_type": "code",
   "execution_count": 112,
   "id": "697253df",
   "metadata": {},
   "outputs": [],
   "source": [
    "m_19=m_19.drop('TOTAL', axis=0)"
   ]
  },
  {
   "cell_type": "code",
   "execution_count": 94,
   "id": "15967813",
   "metadata": {},
   "outputs": [],
   "source": [
    "m18=mayor18[0]  \n",
    "m18.rename(columns={'CANDIDATES':'Wards'},inplace=True)\n",
    " "
   ]
  },
  {
   "cell_type": "code",
   "execution_count": 95,
   "id": "814e458b",
   "metadata": {},
   "outputs": [],
   "source": [
    "m_18=m18.set_index([\"Wards\",m18.groupby(\"Wards\").cumcount()]).unstack().T.droplevel(1) #ward18"
   ]
  },
  {
   "cell_type": "code",
   "execution_count": 111,
   "id": "c52f106e",
   "metadata": {},
   "outputs": [],
   "source": [
    "m_18=m_18.drop('TOTAL', axis=0)"
   ]
  },
  {
   "cell_type": "code",
   "execution_count": 96,
   "id": "e16bf1a8",
   "metadata": {},
   "outputs": [],
   "source": [
    "m17=mayor17[0]  \n",
    "m17.rename(columns={'CANDIDATES':'Wards'},inplace=True)\n",
    " "
   ]
  },
  {
   "cell_type": "code",
   "execution_count": 97,
   "id": "0463bd12",
   "metadata": {},
   "outputs": [],
   "source": [
    "m_17=m17.set_index([\"Wards\",m17.groupby(\"Wards\").cumcount()]).unstack().T.droplevel(1) #ward17"
   ]
  },
  {
   "cell_type": "code",
   "execution_count": 109,
   "id": "d33dce00",
   "metadata": {},
   "outputs": [],
   "source": [
    "m_17 = m_17.drop('TOTAL', axis=0)"
   ]
  },
  {
   "cell_type": "code",
   "execution_count": 139,
   "id": "40dbe029",
   "metadata": {},
   "outputs": [],
   "source": [
    "wards_precincts = pandas.concat([m_1,m_2,m_3,m_4,m_5,m_6,m_7,m_8,m_9,m_10,m_11,m_12,m_13,\n",
    "                                m_14,m_15,m_16,m_17,m_18,m_19,m_20,m_21,m_22]) #joining all the dataframes"
   ]
  },
  {
   "cell_type": "code",
   "execution_count": 145,
   "id": "2a47d868",
   "metadata": {},
   "outputs": [],
   "source": [
    "wards_precincts=wards_precincts.drop('Unnamed: 0', axis=0) #removing NaN"
   ]
  },
  {
   "cell_type": "code",
   "execution_count": 147,
   "id": "f67bd875",
   "metadata": {},
   "outputs": [],
   "source": [
    "wards_precincts.to_excel('wards_precincts.xlsx') #saving to excel"
   ]
  },
  {
   "cell_type": "code",
   "execution_count": 148,
   "id": "2d853064",
   "metadata": {},
   "outputs": [],
   "source": [
    "wards_precincts.to_csv('wards_precincts.csv')  #saving to csv"
   ]
  },
  {
   "cell_type": "code",
   "execution_count": null,
   "id": "c44c9129",
   "metadata": {},
   "outputs": [],
   "source": []
  }
 ],
 "metadata": {
  "kernelspec": {
   "display_name": "Python 3 (ipykernel)",
   "language": "python",
   "name": "python3"
  },
  "language_info": {
   "codemirror_mode": {
    "name": "ipython",
    "version": 3
   },
   "file_extension": ".py",
   "mimetype": "text/x-python",
   "name": "python",
   "nbconvert_exporter": "python",
   "pygments_lexer": "ipython3",
   "version": "3.9.7"
  }
 },
 "nbformat": 4,
 "nbformat_minor": 5
}
